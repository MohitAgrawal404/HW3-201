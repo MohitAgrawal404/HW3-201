{
 "cells": [
  {
   "cell_type": "markdown",
   "metadata": {},
   "source": [
    "# Homework 3: Be There or Be Squared\n",
    "\n",
    "### Run the code below to get the main functions loaded then you can run the questions below it. \n"
   ]
  },
  {
   "cell_type": "code",
   "execution_count": 74,
   "metadata": {},
   "outputs": [],
   "source": [
    "import math\n",
    "import itertools\n",
    "from collections import defaultdict\n",
    "# finding all of the squars https://stackoverflow.com/questions/15984849/python-fastest-way-to-find-all-perfect-squares-in-a-given-large-number-range\n",
    "def squares(n):\n",
    "    list_squares = []\n",
    "    largest = int(math.sqrt(n))\n",
    "    for i in range(1,largest+1):\n",
    "        val = i * i\n",
    "        list_squares.append(val)\n",
    "    return list_squares\n",
    "# Getting the decompositions (I am returning the squared values not the unsquared ones) \n",
    "def decompositions(n, flag=False):\n",
    "    square_numbers = squares(n)\n",
    "    square_numbers.sort()\n",
    "    decomposition_lists = []\n",
    "    for size in range(1, n+1):\n",
    "        for combination in itertools.combinations_with_replacement(square_numbers, size):\n",
    "            if sum(combination) == n:\n",
    "                decomposition_lists.append(list(combination))\n",
    "        \n",
    "        # Stop when we find the first valid combinations\n",
    "        if decomposition_lists:\n",
    "            break\n",
    "    return decomposition_lists"
   ]
  },
  {
   "cell_type": "markdown",
   "metadata": {},
   "source": [
    "## Question 1\n",
    "### Generate a single shortest length decomposition for n"
   ]
  },
  {
   "cell_type": "code",
   "execution_count": 75,
   "metadata": {},
   "outputs": [
    {
     "name": "stdout",
     "output_type": "stream",
     "text": [
      "A smallest decomp list for 100000: [144, 99856]\n"
     ]
    }
   ],
   "source": [
    "n = 100000 # change this value to change n\n",
    "full_list = decompositions(n) # change this value to change n\n",
    "print(f\"A smallest decomp list for {n}: {full_list[0]}\")"
   ]
  },
  {
   "cell_type": "markdown",
   "metadata": {},
   "source": [
    "# Question 2\n",
    "\n",
    "### Generate the list of all shortest length decompositions for n"
   ]
  },
  {
   "cell_type": "code",
   "execution_count": 76,
   "metadata": {},
   "outputs": [
    {
     "name": "stdout",
     "output_type": "stream",
     "text": [
      "Smallest decomp lists for 100000: [[144, 99856], [10000, 90000], [32400, 67600]]\n"
     ]
    }
   ],
   "source": [
    "n = 100000 # change this value to change n\n",
    "full_list = decompositions(n) \n",
    "print(f\"Smallest decomp lists for {n}: {full_list}\") "
   ]
  },
  {
   "cell_type": "markdown",
   "metadata": {},
   "source": [
    "# Question 3\n",
    "Graphing all numbers up to 10,000. the block below will take 10 mins to run (im sorry). But hopefully the plots save so you wont have to worry about that. "
   ]
  },
  {
   "cell_type": "code",
   "execution_count": 79,
   "metadata": {},
   "outputs": [],
   "source": [
    "n = 10000\n",
    "graph_data = defaultdict(int)\n",
    "for number in range(1, n):\n",
    "    value = len(decompositions(number))\n",
    "    graph_data[value] += 1\n",
    "\n"
   ]
  },
  {
   "cell_type": "code",
   "execution_count": 110,
   "metadata": {},
   "outputs": [
    {
     "name": "stdout",
     "output_type": "stream",
     "text": [
      "List of how many numbers of each decomp length there are defaultdict(<class 'int'>, {1: 1899, 2: 1036, 3: 387, 4: 501, 5: 302, 6: 528, 7: 262, 8: 487, 9: 269, 10: 444, 12: 375, 11: 208, 13: 162, 14: 276, 16: 237, 15: 173, 18: 179, 24: 94, 17: 77, 21: 79, 19: 56, 25: 40, 22: 82, 26: 43, 20: 132, 23: 44, 33: 16, 27: 44, 28: 33, 31: 8, 29: 13, 35: 20, 36: 19, 40: 4, 30: 47, 38: 7, 44: 4, 32: 20, 41: 7, 37: 4, 52: 5, 43: 8, 53: 7, 39: 15, 34: 12, 50: 5, 46: 6, 48: 13, 42: 13, 51: 11, 54: 20, 45: 11, 49: 5, 47: 6, 75: 11, 58: 2, 61: 9, 57: 10, 62: 5, 72: 11, 55: 3, 69: 11, 63: 11, 56: 4, 79: 7, 60: 9, 59: 2, 73: 5, 84: 5, 65: 4, 66: 7, 70: 6, 85: 7, 67: 6, 87: 7, 81: 14, 98: 3, 64: 4, 68: 5, 100: 4, 83: 5, 76: 4, 90: 15, 74: 1, 80: 6, 101: 4, 89: 4, 78: 6, 105: 19, 96: 5, 86: 3, 91: 6, 77: 8, 94: 4, 109: 9, 92: 7, 71: 4, 102: 5, 82: 1, 99: 14, 106: 7, 95: 5, 88: 2, 118: 1, 93: 9, 121: 4, 128: 5, 113: 4, 134: 2, 115: 5, 142: 8, 110: 10, 97: 3, 117: 8, 119: 6, 111: 6, 123: 9, 126: 12, 114: 12, 116: 7, 127: 5, 131: 3, 104: 9, 108: 6, 144: 8, 124: 3, 138: 13, 141: 13, 122: 4, 120: 6, 154: 4, 150: 8, 103: 3, 139: 9, 192: 8, 137: 7, 148: 4, 153: 11, 132: 7, 140: 5, 107: 3, 162: 12, 143: 4, 146: 5, 149: 7, 195: 10, 129: 9, 145: 2, 168: 7, 173: 4, 151: 6, 147: 12, 166: 10, 125: 4, 136: 7, 112: 2, 189: 10, 133: 3, 156: 10, 130: 7, 198: 9, 175: 7, 165: 12, 181: 5, 176: 4, 196: 5, 157: 3, 159: 10, 160: 5, 214: 9, 167: 4, 174: 9, 187: 5, 135: 5, 158: 4, 169: 6, 152: 4, 170: 6, 201: 6, 180: 8, 171: 9, 164: 4, 222: 4, 205: 5, 220: 7, 185: 5, 179: 3, 190: 5, 255: 8, 193: 5, 161: 4, 228: 2, 202: 5, 230: 7, 208: 3, 184: 1, 182: 4, 213: 5, 199: 4, 206: 5, 188: 9, 178: 3, 240: 7, 232: 4, 225: 4, 207: 13, 223: 3, 246: 3, 183: 14, 211: 5, 210: 10, 303: 1, 163: 2, 155: 3, 197: 5, 250: 3, 186: 5, 252: 5, 236: 3, 200: 9, 215: 4, 203: 3, 194: 4, 229: 2, 290: 2, 247: 1, 272: 1, 257: 2, 191: 3, 227: 8, 274: 2, 216: 5, 239: 2, 245: 5, 172: 2, 284: 4, 300: 3, 242: 4, 218: 2, 212: 3, 271: 2, 308: 2, 226: 3, 224: 4, 311: 3, 234: 2, 266: 1, 237: 6, 235: 4, 177: 4, 249: 3, 267: 1, 276: 4, 275: 2, 254: 1, 288: 3, 261: 2, 253: 1, 248: 1, 219: 6, 312: 2, 204: 7, 314: 1, 292: 1, 302: 2, 241: 3, 231: 2, 260: 4, 332: 2, 285: 3, 243: 4, 361: 1, 297: 3, 244: 4, 294: 2, 283: 2, 209: 3, 279: 2, 263: 3, 309: 3, 282: 1, 221: 2, 376: 1, 277: 2, 289: 1, 298: 1, 256: 3, 278: 1, 217: 2, 315: 2, 270: 1, 251: 1, 262: 1, 405: 1, 336: 1, 281: 1, 319: 3, 287: 1, 341: 1, 296: 1, 306: 1, 346: 1, 362: 1, 286: 1, 380: 1, 233: 1, 331: 1, 372: 1, 326: 1, 293: 2, 382: 1, 295: 2, 428: 1, 351: 1})\n",
      "20\n"
     ]
    },
    {
     "data": {
      "image/png": "[encoded data removed]",
      "text/plain": [
       "<Figure size 640x480 with 1 Axes>"
      ]
     },
     "metadata": {},
     "output_type": "display_data"
    }
   ],
   "source": [
    "import matplotlib.pyplot as plt\n",
    "    \n",
    "print(f\"List of how many numbers of each decomp length there are {graph_data}\")\n",
    "print(graph_data[32])\n",
    "length = list(graph_data.keys())\n",
    "count = list(graph_data.values())\n",
    "\n",
    "plt.bar(length, count)\n",
    "\n",
    "plt.xlabel('Length')\n",
    "plt.ylabel('Count')\n",
    "\n",
    "plt.title('Number of Decompositions for Certain Length')\n",
    "\n",
    "plt.show()"
   ]
  },
  {
   "cell_type": "markdown",
   "metadata": {},
   "source": [
    "# Question 4\n",
    "This will run a full BFS from a bunch of starting actors as well as output the size of each level of each of the searches. (Remember to click \"scrollable element\" at the bottom of the output or else you will not see all the results correctly)"
   ]
  },
  {
   "cell_type": "code",
   "execution_count": null,
   "metadata": {},
   "outputs": [],
   "source": []
  },
  {
   "cell_type": "markdown",
   "metadata": {},
   "source": [
    "# Question 5\n",
    "I am interpreting this question as the size of each separate connected graph generated for the all imdb credits file. I will print out the 10 largests connected component sizes.  "
   ]
  },
  {
   "cell_type": "code",
   "execution_count": null,
   "metadata": {},
   "outputs": [],
   "source": []
  },
  {
   "cell_type": "markdown",
   "metadata": {},
   "source": [
    "# Question 6\n",
    "\n",
    "Here we implmeent the bi-bfs algorithm and compare it to the base BFS algorithm in terms of number of edges. "
   ]
  },
  {
   "cell_type": "code",
   "execution_count": null,
   "metadata": {},
   "outputs": [],
   "source": []
  }
 ],
 "metadata": {
  "kernelspec": {
   "display_name": "Python 3",
   "language": "python",
   "name": "python3"
  },
  "language_info": {
   "codemirror_mode": {
    "name": "ipython",
    "version": 3
   },
   "file_extension": ".py",
   "mimetype": "text/x-python",
   "name": "python",
   "nbconvert_exporter": "python",
   "pygments_lexer": "ipython3",
   "version": "3.12.8"
  }
 },
 "nbformat": 4,
 "nbformat_minor": 2
}
