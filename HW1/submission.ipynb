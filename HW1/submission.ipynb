{
 "cells": [
  {
   "cell_type": "markdown",
   "metadata": {},
   "source": [
    "# Homework 3: Be There or Be Squared\n",
    "\n",
    "### Run the code below to get the main functions loaded then you can run the questions below it. \n"
   ]
  },
  {
   "cell_type": "code",
   "execution_count": null,
   "metadata": {},
   "outputs": [],
   "source": [
    "import math\n",
    "import itertools\n",
    "# finding all of the squars https://stackoverflow.com/questions/15984849/python-fastest-way-to-find-all-perfect-squares-in-a-given-large-number-range\n",
    "def squares(n):\n",
    "    list_squares = []\n",
    "    largest = int(math.sqrt(n))\n",
    "    for i in range(1,largest):\n",
    "        val = i * i\n",
    "        list_squares.append(val)\n",
    "    return list_squares.sort()\n",
    "# Getting the decompositions (I am returning the squared values not the unsquared ones) \n",
    "def decompositions(n, flag=False):\n",
    "    square_numbers = squares(n)\n",
    "    for s in square_numbers:\n",
    "        if (n - s) in square_numbers:\n",
    "    for size in range(2, len(square_numbers) + 1):\n",
    "        for combination in itertools.combinations(nums, length):\n",
    "            if sum(combination) == target:\n",
    "                result.append(list(combination))\n",
    "        \n",
    "        # Stop when we find the first valid combinations\n",
    "        if result:\n",
    "            break\n",
    "\n",
    "    return result\n",
    "            \n",
    "        \n",
    "        \n",
    "        \n",
    "        \n",
    "    \n",
    "    "
   ]
  },
  {
   "cell_type": "markdown",
   "metadata": {},
   "source": [
    "## Question 1\n",
    "Here I show the inputs from the more_inputs file on the smaller IMDB data as well as an additional inputs to show what happens when there is no path or if a actor is not found\n",
    "\n",
    "*It might truncate the output so click on \"scrollable element\" at the bottom of the output*"
   ]
  },
  {
   "cell_type": "code",
   "execution_count": null,
   "metadata": {},
   "outputs": [],
   "source": []
  },
  {
   "cell_type": "markdown",
   "metadata": {},
   "source": [
    "# Question 2\n",
    "\n",
    "Here are some fun connections I made"
   ]
  },
  {
   "cell_type": "code",
   "execution_count": null,
   "metadata": {},
   "outputs": [],
   "source": []
  },
  {
   "cell_type": "markdown",
   "metadata": {},
   "source": [
    "# Question 3\n",
    "Here i'm running the same actor pairs but with different files one being all of the credits one being a smaller subset. "
   ]
  },
  {
   "cell_type": "code",
   "execution_count": null,
   "metadata": {},
   "outputs": [],
   "source": []
  },
  {
   "cell_type": "markdown",
   "metadata": {},
   "source": [
    "# Question 4\n",
    "This will run a full BFS from a bunch of starting actors as well as output the size of each level of each of the searches. (Remember to click \"scrollable element\" at the bottom of the output or else you will not see all the results correctly)"
   ]
  },
  {
   "cell_type": "code",
   "execution_count": null,
   "metadata": {},
   "outputs": [],
   "source": []
  },
  {
   "cell_type": "markdown",
   "metadata": {},
   "source": [
    "# Question 5\n",
    "I am interpreting this question as the size of each separate connected graph generated for the all imdb credits file. I will print out the 10 largests connected component sizes.  "
   ]
  },
  {
   "cell_type": "code",
   "execution_count": null,
   "metadata": {},
   "outputs": [],
   "source": []
  },
  {
   "cell_type": "markdown",
   "metadata": {},
   "source": [
    "# Question 6\n",
    "\n",
    "Here we implmeent the bi-bfs algorithm and compare it to the base BFS algorithm in terms of number of edges. "
   ]
  },
  {
   "cell_type": "code",
   "execution_count": null,
   "metadata": {},
   "outputs": [],
   "source": []
  }
 ],
 "metadata": {
  "kernelspec": {
   "display_name": "Python 3",
   "language": "python",
   "name": "python3"
  },
  "language_info": {
   "codemirror_mode": {
    "name": "ipython",
    "version": 3
   },
   "file_extension": ".py",
   "mimetype": "text/x-python",
   "name": "python",
   "nbconvert_exporter": "python",
   "pygments_lexer": "ipython3",
   "version": "3.12.8"
  }
 },
 "nbformat": 4,
 "nbformat_minor": 2
}
