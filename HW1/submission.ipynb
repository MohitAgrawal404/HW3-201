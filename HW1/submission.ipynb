{
 "cells": [
  {
   "cell_type": "markdown",
   "metadata": {},
   "source": [
    "# Homework 3: Be There or Be Squared\n",
    "\n",
    "### Run the code below to get the main functions loaded then you can run the questions below it. \n"
   ]
  },
  {
   "cell_type": "code",
   "execution_count": 74,
   "metadata": {},
   "outputs": [],
   "source": [
    "import math\n",
    "import itertools\n",
    "from collections import defaultdict\n",
    "# finding all of the squars https://stackoverflow.com/questions/15984849/python-fastest-way-to-find-all-perfect-squares-in-a-given-large-number-range\n",
    "def squares(n):\n",
    "    list_squares = []\n",
    "    largest = int(math.sqrt(n))\n",
    "    for i in range(1,largest+1):\n",
    "        val = i * i\n",
    "        list_squares.append(val)\n",
    "    return list_squares\n",
    "# Getting the decompositions (I am returning the squared values not the unsquared ones) \n",
    "def decompositions(n, flag=False):\n",
    "    square_numbers = squares(n)\n",
    "    square_numbers.sort()\n",
    "    decomposition_lists = []\n",
    "    for size in range(1, n+1):\n",
    "        for combination in itertools.combinations_with_replacement(square_numbers, size):\n",
    "            if sum(combination) == n:\n",
    "                decomposition_lists.append(list(combination))\n",
    "        \n",
    "        # Stop when we find the first valid combinations\n",
    "        if decomposition_lists:\n",
    "            break\n",
    "    return decomposition_lists\n",
    "            \n",
    "        \n",
    "        \n",
    "        \n",
    "        \n",
    "    \n",
    "    "
   ]
  },
  {
   "cell_type": "markdown",
   "metadata": {},
   "source": [
    "## Question 1\n",
    "### Generate a single shortest length decomposition for n"
   ]
  },
  {
   "cell_type": "code",
   "execution_count": 75,
   "metadata": {},
   "outputs": [
    {
     "name": "stdout",
     "output_type": "stream",
     "text": [
      "A smallest decomp list for 100000: [144, 99856]\n"
     ]
    }
   ],
   "source": [
    "n = 100000 # change this value to change n\n",
    "full_list = decompositions(n) # change this value to change n\n",
    "print(f\"A smallest decomp list for {n}: {full_list[0]}\")"
   ]
  },
  {
   "cell_type": "markdown",
   "metadata": {},
   "source": [
    "# Question 2\n",
    "\n",
    "### Generate the list of all shortest length decompositions for n"
   ]
  },
  {
   "cell_type": "code",
   "execution_count": 76,
   "metadata": {},
   "outputs": [
    {
     "name": "stdout",
     "output_type": "stream",
     "text": [
      "Smallest decomp lists for 100000: [[144, 99856], [10000, 90000], [32400, 67600]]\n"
     ]
    }
   ],
   "source": [
    "n = 100000 # change this value to change n\n",
    "full_list = decompositions(n) \n",
    "print(f\"Smallest decomp lists for {n}: {full_list}\") "
   ]
  },
  {
   "cell_type": "markdown",
   "metadata": {},
   "source": [
    "# Question 3\n",
    "Here i'm running the same actor pairs but with different files one being all of the credits one being a smaller subset. "
   ]
  },
  {
   "cell_type": "code",
   "execution_count": null,
   "metadata": {},
   "outputs": [],
   "source": [
    "n = 10000\n",
    "graph_data = defaultdict(int)\n",
    "for number in range(1, n):\n",
    "    value = len(decompositions(number))\n",
    "    graph_data[value] += 1\n",
    "\n"
   ]
  },
  {
   "cell_type": "markdown",
   "metadata": {},
   "source": [
    "# Question 4\n",
    "This will run a full BFS from a bunch of starting actors as well as output the size of each level of each of the searches. (Remember to click \"scrollable element\" at the bottom of the output or else you will not see all the results correctly)"
   ]
  },
  {
   "cell_type": "code",
   "execution_count": null,
   "metadata": {},
   "outputs": [],
   "source": []
  },
  {
   "cell_type": "markdown",
   "metadata": {},
   "source": [
    "# Question 5\n",
    "I am interpreting this question as the size of each separate connected graph generated for the all imdb credits file. I will print out the 10 largests connected component sizes.  "
   ]
  },
  {
   "cell_type": "code",
   "execution_count": null,
   "metadata": {},
   "outputs": [],
   "source": []
  },
  {
   "cell_type": "markdown",
   "metadata": {},
   "source": [
    "# Question 6\n",
    "\n",
    "Here we implmeent the bi-bfs algorithm and compare it to the base BFS algorithm in terms of number of edges. "
   ]
  },
  {
   "cell_type": "code",
   "execution_count": null,
   "metadata": {},
   "outputs": [],
   "source": []
  }
 ],
 "metadata": {
  "kernelspec": {
   "display_name": "Python 3",
   "language": "python",
   "name": "python3"
  },
  "language_info": {
   "codemirror_mode": {
    "name": "ipython",
    "version": 3
   },
   "file_extension": ".py",
   "mimetype": "text/x-python",
   "name": "python",
   "nbconvert_exporter": "python",
   "pygments_lexer": "ipython3",
   "version": "3.12.8"
  }
 },
 "nbformat": 4,
 "nbformat_minor": 2
}
